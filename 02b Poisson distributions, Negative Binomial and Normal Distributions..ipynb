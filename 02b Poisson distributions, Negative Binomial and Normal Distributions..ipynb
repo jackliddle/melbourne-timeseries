{
 "cells": [
  {
   "cell_type": "markdown",
   "id": "ab2df213",
   "metadata": {},
   "source": [
    "# Poisson distributions, Negative Binomial and Normal Distributions."
   ]
  },
  {
   "cell_type": "markdown",
   "id": "89929e83",
   "metadata": {},
   "source": [
    "I want here to summarise my thoughts about Poisson distributions and Negative Binomial distributions and Normal Distributions, ow they relate to each other and how they relate to the problem of modelling pedestrian counts."
   ]
  },
  {
   "cell_type": "code",
   "execution_count": 2,
   "id": "42df21ae",
   "metadata": {},
   "outputs": [],
   "source": [
    "import numpy as np\n",
    "import matplotlib.pyplot as plt"
   ]
  },
  {
   "cell_type": "markdown",
   "id": "868ae3c0",
   "metadata": {},
   "source": [
    "# Poisson distributions\n",
    "\n",
    "The Poisson distribution is a discrete probability distribution commonly used to model the number of events or occurrences that happen in a fixed interval of time or space.\n",
    "\n",
    "$P(X = k) = \\frac{e^{-\\lambda} \\cdot \\lambda^k}{k!}$\n",
    "\n",
    "The assumptions are:\n",
    "* Events occur randomly in time or space.\n",
    "* Events are rare, meaning they occur infrequently within the given interval.\n",
    "* The probability of more than one event occurring in an infinitesimally small subinterval is negligible (this is basically another way of saying that the events are discrete).\n",
    "* Events are independent, meaning the occurrence of one event does not affect the occurrence of another."
   ]
  },
  {
   "cell_type": "code",
   "execution_count": null,
   "id": "068bd7b7",
   "metadata": {},
   "outputs": [],
   "source": []
  }
 ],
 "metadata": {
  "kernelspec": {
   "display_name": "Python 3 (ipykernel)",
   "language": "python",
   "name": "python3"
  },
  "language_info": {
   "codemirror_mode": {
    "name": "ipython",
    "version": 3
   },
   "file_extension": ".py",
   "mimetype": "text/x-python",
   "name": "python",
   "nbconvert_exporter": "python",
   "pygments_lexer": "ipython3",
   "version": "3.9.18"
  }
 },
 "nbformat": 4,
 "nbformat_minor": 5
}

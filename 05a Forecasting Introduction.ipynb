{
 "cells": [
  {
   "cell_type": "markdown",
   "id": "cdc25907",
   "metadata": {},
   "source": [
    "# Forecasting Introduction\n",
    "\n",
    "Before we start diving in and making forecasting models we need flesh out some details."
   ]
  },
  {
   "cell_type": "code",
   "execution_count": 20,
   "id": "53645789",
   "metadata": {},
   "outputs": [],
   "source": [
    "import numpy as np\n",
    "import pandas as pd\n",
    "\n",
    "import matplotlib.pyplot as plt"
   ]
  },
  {
   "cell_type": "markdown",
   "id": "5c018512",
   "metadata": {},
   "source": [
    "## Time series to tabular format\n",
    "\n",
    "This is going to be general at first then I will make a specific example.\n",
    "\n",
    "We start with a time-series of data. With associated observations"
   ]
  },
  {
   "cell_type": "code",
   "execution_count": 2,
   "id": "44bc627f",
   "metadata": {},
   "outputs": [
    {
     "data": {
      "text/html": [
       "<div>\n",
       "<style scoped>\n",
       "    .dataframe tbody tr th:only-of-type {\n",
       "        vertical-align: middle;\n",
       "    }\n",
       "\n",
       "    .dataframe tbody tr th {\n",
       "        vertical-align: top;\n",
       "    }\n",
       "\n",
       "    .dataframe thead th {\n",
       "        text-align: right;\n",
       "    }\n",
       "</style>\n",
       "<table border=\"1\" class=\"dataframe\">\n",
       "  <thead>\n",
       "    <tr style=\"text-align: right;\">\n",
       "      <th></th>\n",
       "      <th>t</th>\n",
       "      <th>Obs</th>\n",
       "    </tr>\n",
       "  </thead>\n",
       "  <tbody>\n",
       "    <tr>\n",
       "      <th>0</th>\n",
       "      <td>1</td>\n",
       "      <td>Obs1</td>\n",
       "    </tr>\n",
       "    <tr>\n",
       "      <th>1</th>\n",
       "      <td>2</td>\n",
       "      <td>Obs2</td>\n",
       "    </tr>\n",
       "    <tr>\n",
       "      <th>2</th>\n",
       "      <td>3</td>\n",
       "      <td>Obs3</td>\n",
       "    </tr>\n",
       "    <tr>\n",
       "      <th>3</th>\n",
       "      <td>4</td>\n",
       "      <td>Obs4</td>\n",
       "    </tr>\n",
       "    <tr>\n",
       "      <th>4</th>\n",
       "      <td>5</td>\n",
       "      <td>Obs5</td>\n",
       "    </tr>\n",
       "    <tr>\n",
       "      <th>5</th>\n",
       "      <td>6</td>\n",
       "      <td>Obs6</td>\n",
       "    </tr>\n",
       "    <tr>\n",
       "      <th>6</th>\n",
       "      <td>7</td>\n",
       "      <td>Obs7</td>\n",
       "    </tr>\n",
       "    <tr>\n",
       "      <th>7</th>\n",
       "      <td>8</td>\n",
       "      <td>Obs8</td>\n",
       "    </tr>\n",
       "    <tr>\n",
       "      <th>8</th>\n",
       "      <td>9</td>\n",
       "      <td>Obs9</td>\n",
       "    </tr>\n",
       "    <tr>\n",
       "      <th>9</th>\n",
       "      <td>10</td>\n",
       "      <td>Obs10</td>\n",
       "    </tr>\n",
       "    <tr>\n",
       "      <th>10</th>\n",
       "      <td>11</td>\n",
       "      <td>Obs11</td>\n",
       "    </tr>\n",
       "    <tr>\n",
       "      <th>11</th>\n",
       "      <td>12</td>\n",
       "      <td>Obs12</td>\n",
       "    </tr>\n",
       "    <tr>\n",
       "      <th>12</th>\n",
       "      <td>13</td>\n",
       "      <td>Obs13</td>\n",
       "    </tr>\n",
       "    <tr>\n",
       "      <th>13</th>\n",
       "      <td>14</td>\n",
       "      <td>Obs14</td>\n",
       "    </tr>\n",
       "  </tbody>\n",
       "</table>\n",
       "</div>"
      ],
      "text/plain": [
       "     t    Obs\n",
       "0    1   Obs1\n",
       "1    2   Obs2\n",
       "2    3   Obs3\n",
       "3    4   Obs4\n",
       "4    5   Obs5\n",
       "5    6   Obs6\n",
       "6    7   Obs7\n",
       "7    8   Obs8\n",
       "8    9   Obs9\n",
       "9   10  Obs10\n",
       "10  11  Obs11\n",
       "11  12  Obs12\n",
       "12  13  Obs13\n",
       "13  14  Obs14"
      ]
     },
     "execution_count": 2,
     "metadata": {},
     "output_type": "execute_result"
    }
   ],
   "source": [
    "def generateObsTable(L):\n",
    "    # Create the initial DataFrame\n",
    "    t_values = list(range(1, L))  # Extended range for demonstration\n",
    "    obs_values = [\"Obs\" + str(i) for i in t_values]\n",
    "    df = pd.DataFrame({\n",
    "        't': t_values,\n",
    "        'Obs': obs_values\n",
    "    })\n",
    "    return df\n",
    "\n",
    "df_ts = generateObsTable(15)\n",
    "df_ts"
   ]
  },
  {
   "cell_type": "markdown",
   "id": "a7d309bc",
   "metadata": {},
   "source": [
    "Our supervised learning algorithms want some kind of *tabular* data. We can convert our time series by taking (for example), as each observation:\n",
    "* Independent variables as Obs1 and Obs2 and our dependent variables as Obs3. \n",
    "* Independent variables as Obs2 and Obs3 and our dependent variables as Obs4. \n",
    "* and so on until we run out of data."
   ]
  },
  {
   "cell_type": "code",
   "execution_count": 3,
   "id": "bf54a1a5",
   "metadata": {},
   "outputs": [],
   "source": [
    "def transformTable(df, N):\n",
    "    # Check if N is valid\n",
    "    if N >= len(df) - 1:\n",
    "        raise ValueError(\"N is too large for the provided DataFrame.\")\n",
    "    \n",
    "    # Create new DataFrame with shifted values\n",
    "    data = {}\n",
    "    for i in range(N):\n",
    "        data[f'x{i+1}'] = df['Obs'][i:-N+i].values\n",
    "    data['y'] = df['Obs'][N:].values\n",
    "    \n",
    "    df_new = pd.DataFrame(data)\n",
    "    return df_new"
   ]
  },
  {
   "cell_type": "code",
   "execution_count": 10,
   "id": "e8895333",
   "metadata": {},
   "outputs": [
    {
     "data": {
      "text/html": [
       "<div>\n",
       "<style scoped>\n",
       "    .dataframe tbody tr th:only-of-type {\n",
       "        vertical-align: middle;\n",
       "    }\n",
       "\n",
       "    .dataframe tbody tr th {\n",
       "        vertical-align: top;\n",
       "    }\n",
       "\n",
       "    .dataframe thead th {\n",
       "        text-align: right;\n",
       "    }\n",
       "</style>\n",
       "<table border=\"1\" class=\"dataframe\">\n",
       "  <thead>\n",
       "    <tr style=\"text-align: right;\">\n",
       "      <th></th>\n",
       "      <th>x1</th>\n",
       "      <th>x2</th>\n",
       "      <th>y</th>\n",
       "    </tr>\n",
       "  </thead>\n",
       "  <tbody>\n",
       "    <tr>\n",
       "      <th>0</th>\n",
       "      <td>Obs1</td>\n",
       "      <td>Obs2</td>\n",
       "      <td>Obs3</td>\n",
       "    </tr>\n",
       "    <tr>\n",
       "      <th>1</th>\n",
       "      <td>Obs2</td>\n",
       "      <td>Obs3</td>\n",
       "      <td>Obs4</td>\n",
       "    </tr>\n",
       "    <tr>\n",
       "      <th>2</th>\n",
       "      <td>Obs3</td>\n",
       "      <td>Obs4</td>\n",
       "      <td>Obs5</td>\n",
       "    </tr>\n",
       "    <tr>\n",
       "      <th>3</th>\n",
       "      <td>Obs4</td>\n",
       "      <td>Obs5</td>\n",
       "      <td>Obs6</td>\n",
       "    </tr>\n",
       "    <tr>\n",
       "      <th>4</th>\n",
       "      <td>Obs5</td>\n",
       "      <td>Obs6</td>\n",
       "      <td>Obs7</td>\n",
       "    </tr>\n",
       "    <tr>\n",
       "      <th>5</th>\n",
       "      <td>Obs6</td>\n",
       "      <td>Obs7</td>\n",
       "      <td>Obs8</td>\n",
       "    </tr>\n",
       "    <tr>\n",
       "      <th>6</th>\n",
       "      <td>Obs7</td>\n",
       "      <td>Obs8</td>\n",
       "      <td>Obs9</td>\n",
       "    </tr>\n",
       "    <tr>\n",
       "      <th>7</th>\n",
       "      <td>Obs8</td>\n",
       "      <td>Obs9</td>\n",
       "      <td>Obs10</td>\n",
       "    </tr>\n",
       "    <tr>\n",
       "      <th>8</th>\n",
       "      <td>Obs9</td>\n",
       "      <td>Obs10</td>\n",
       "      <td>Obs11</td>\n",
       "    </tr>\n",
       "    <tr>\n",
       "      <th>9</th>\n",
       "      <td>Obs10</td>\n",
       "      <td>Obs11</td>\n",
       "      <td>Obs12</td>\n",
       "    </tr>\n",
       "    <tr>\n",
       "      <th>10</th>\n",
       "      <td>Obs11</td>\n",
       "      <td>Obs12</td>\n",
       "      <td>Obs13</td>\n",
       "    </tr>\n",
       "    <tr>\n",
       "      <th>11</th>\n",
       "      <td>Obs12</td>\n",
       "      <td>Obs13</td>\n",
       "      <td>Obs14</td>\n",
       "    </tr>\n",
       "  </tbody>\n",
       "</table>\n",
       "</div>"
      ],
      "text/plain": [
       "       x1     x2      y\n",
       "0    Obs1   Obs2   Obs3\n",
       "1    Obs2   Obs3   Obs4\n",
       "2    Obs3   Obs4   Obs5\n",
       "3    Obs4   Obs5   Obs6\n",
       "4    Obs5   Obs6   Obs7\n",
       "5    Obs6   Obs7   Obs8\n",
       "6    Obs7   Obs8   Obs9\n",
       "7    Obs8   Obs9  Obs10\n",
       "8    Obs9  Obs10  Obs11\n",
       "9   Obs10  Obs11  Obs12\n",
       "10  Obs11  Obs12  Obs13\n",
       "11  Obs12  Obs13  Obs14"
      ]
     },
     "execution_count": 10,
     "metadata": {},
     "output_type": "execute_result"
    }
   ],
   "source": [
    "df_tab = transformTable(df_ts,2)\n",
    "df_tab"
   ]
  },
  {
   "cell_type": "markdown",
   "id": "7c9f8b74",
   "metadata": {},
   "source": [
    "How do we make forecasts from this?\n",
    "* Take our last two observations Obs13 and Obs14, and use the regressor we learned to make Pred15."
   ]
  },
  {
   "cell_type": "code",
   "execution_count": 8,
   "id": "594cea98",
   "metadata": {},
   "outputs": [],
   "source": [
    "def addPredictedRow(df):\n",
    "    # Extract the last row\n",
    "    last_row = df.iloc[-1]\n",
    "    \n",
    "    # Create new row data\n",
    "    new_data = {}\n",
    "    for i in range(len(last_row) - 1):\n",
    "        new_data[f'x{i+1}'] = last_row[f'x{i+2}'] if i+2 <= len(last_row) - 1 else last_row['y']\n",
    "    \n",
    "    # Extract the number from the last 'y' value and increment it\n",
    "    last_num = int(last_row['y'].replace('Obs', '').replace('Pred', ''))\n",
    "    new_data['y'] = f'Pred{last_num + 1}'\n",
    "    \n",
    "    new_row_df = pd.DataFrame([new_data])\n",
    "    df = pd.concat([df, new_row_df], ignore_index=True)\n",
    "    return df"
   ]
  },
  {
   "cell_type": "code",
   "execution_count": 11,
   "id": "2ab4c541",
   "metadata": {},
   "outputs": [
    {
     "data": {
      "text/html": [
       "<div>\n",
       "<style scoped>\n",
       "    .dataframe tbody tr th:only-of-type {\n",
       "        vertical-align: middle;\n",
       "    }\n",
       "\n",
       "    .dataframe tbody tr th {\n",
       "        vertical-align: top;\n",
       "    }\n",
       "\n",
       "    .dataframe thead th {\n",
       "        text-align: right;\n",
       "    }\n",
       "</style>\n",
       "<table border=\"1\" class=\"dataframe\">\n",
       "  <thead>\n",
       "    <tr style=\"text-align: right;\">\n",
       "      <th></th>\n",
       "      <th>x1</th>\n",
       "      <th>x2</th>\n",
       "      <th>y</th>\n",
       "    </tr>\n",
       "  </thead>\n",
       "  <tbody>\n",
       "    <tr>\n",
       "      <th>0</th>\n",
       "      <td>Obs1</td>\n",
       "      <td>Obs2</td>\n",
       "      <td>Obs3</td>\n",
       "    </tr>\n",
       "    <tr>\n",
       "      <th>1</th>\n",
       "      <td>Obs2</td>\n",
       "      <td>Obs3</td>\n",
       "      <td>Obs4</td>\n",
       "    </tr>\n",
       "    <tr>\n",
       "      <th>2</th>\n",
       "      <td>Obs3</td>\n",
       "      <td>Obs4</td>\n",
       "      <td>Obs5</td>\n",
       "    </tr>\n",
       "    <tr>\n",
       "      <th>3</th>\n",
       "      <td>Obs4</td>\n",
       "      <td>Obs5</td>\n",
       "      <td>Obs6</td>\n",
       "    </tr>\n",
       "    <tr>\n",
       "      <th>4</th>\n",
       "      <td>Obs5</td>\n",
       "      <td>Obs6</td>\n",
       "      <td>Obs7</td>\n",
       "    </tr>\n",
       "    <tr>\n",
       "      <th>5</th>\n",
       "      <td>Obs6</td>\n",
       "      <td>Obs7</td>\n",
       "      <td>Obs8</td>\n",
       "    </tr>\n",
       "    <tr>\n",
       "      <th>6</th>\n",
       "      <td>Obs7</td>\n",
       "      <td>Obs8</td>\n",
       "      <td>Obs9</td>\n",
       "    </tr>\n",
       "    <tr>\n",
       "      <th>7</th>\n",
       "      <td>Obs8</td>\n",
       "      <td>Obs9</td>\n",
       "      <td>Obs10</td>\n",
       "    </tr>\n",
       "    <tr>\n",
       "      <th>8</th>\n",
       "      <td>Obs9</td>\n",
       "      <td>Obs10</td>\n",
       "      <td>Obs11</td>\n",
       "    </tr>\n",
       "    <tr>\n",
       "      <th>9</th>\n",
       "      <td>Obs10</td>\n",
       "      <td>Obs11</td>\n",
       "      <td>Obs12</td>\n",
       "    </tr>\n",
       "    <tr>\n",
       "      <th>10</th>\n",
       "      <td>Obs11</td>\n",
       "      <td>Obs12</td>\n",
       "      <td>Obs13</td>\n",
       "    </tr>\n",
       "    <tr>\n",
       "      <th>11</th>\n",
       "      <td>Obs12</td>\n",
       "      <td>Obs13</td>\n",
       "      <td>Obs14</td>\n",
       "    </tr>\n",
       "    <tr>\n",
       "      <th>12</th>\n",
       "      <td>Obs13</td>\n",
       "      <td>Obs14</td>\n",
       "      <td>Pred15</td>\n",
       "    </tr>\n",
       "  </tbody>\n",
       "</table>\n",
       "</div>"
      ],
      "text/plain": [
       "       x1     x2       y\n",
       "0    Obs1   Obs2    Obs3\n",
       "1    Obs2   Obs3    Obs4\n",
       "2    Obs3   Obs4    Obs5\n",
       "3    Obs4   Obs5    Obs6\n",
       "4    Obs5   Obs6    Obs7\n",
       "5    Obs6   Obs7    Obs8\n",
       "6    Obs7   Obs8    Obs9\n",
       "7    Obs8   Obs9   Obs10\n",
       "8    Obs9  Obs10   Obs11\n",
       "9   Obs10  Obs11   Obs12\n",
       "10  Obs11  Obs12   Obs13\n",
       "11  Obs12  Obs13   Obs14\n",
       "12  Obs13  Obs14  Pred15"
      ]
     },
     "execution_count": 11,
     "metadata": {},
     "output_type": "execute_result"
    }
   ],
   "source": [
    "df_tab = add_predicted_row(df_tab)\n",
    "df_tab"
   ]
  },
  {
   "cell_type": "markdown",
   "id": "80b2f91c",
   "metadata": {},
   "source": [
    "Lets apply this one more time"
   ]
  },
  {
   "cell_type": "code",
   "execution_count": 12,
   "id": "793a89d4",
   "metadata": {},
   "outputs": [
    {
     "data": {
      "text/html": [
       "<div>\n",
       "<style scoped>\n",
       "    .dataframe tbody tr th:only-of-type {\n",
       "        vertical-align: middle;\n",
       "    }\n",
       "\n",
       "    .dataframe tbody tr th {\n",
       "        vertical-align: top;\n",
       "    }\n",
       "\n",
       "    .dataframe thead th {\n",
       "        text-align: right;\n",
       "    }\n",
       "</style>\n",
       "<table border=\"1\" class=\"dataframe\">\n",
       "  <thead>\n",
       "    <tr style=\"text-align: right;\">\n",
       "      <th></th>\n",
       "      <th>x1</th>\n",
       "      <th>x2</th>\n",
       "      <th>y</th>\n",
       "    </tr>\n",
       "  </thead>\n",
       "  <tbody>\n",
       "    <tr>\n",
       "      <th>0</th>\n",
       "      <td>Obs1</td>\n",
       "      <td>Obs2</td>\n",
       "      <td>Obs3</td>\n",
       "    </tr>\n",
       "    <tr>\n",
       "      <th>1</th>\n",
       "      <td>Obs2</td>\n",
       "      <td>Obs3</td>\n",
       "      <td>Obs4</td>\n",
       "    </tr>\n",
       "    <tr>\n",
       "      <th>2</th>\n",
       "      <td>Obs3</td>\n",
       "      <td>Obs4</td>\n",
       "      <td>Obs5</td>\n",
       "    </tr>\n",
       "    <tr>\n",
       "      <th>3</th>\n",
       "      <td>Obs4</td>\n",
       "      <td>Obs5</td>\n",
       "      <td>Obs6</td>\n",
       "    </tr>\n",
       "    <tr>\n",
       "      <th>4</th>\n",
       "      <td>Obs5</td>\n",
       "      <td>Obs6</td>\n",
       "      <td>Obs7</td>\n",
       "    </tr>\n",
       "    <tr>\n",
       "      <th>5</th>\n",
       "      <td>Obs6</td>\n",
       "      <td>Obs7</td>\n",
       "      <td>Obs8</td>\n",
       "    </tr>\n",
       "    <tr>\n",
       "      <th>6</th>\n",
       "      <td>Obs7</td>\n",
       "      <td>Obs8</td>\n",
       "      <td>Obs9</td>\n",
       "    </tr>\n",
       "    <tr>\n",
       "      <th>7</th>\n",
       "      <td>Obs8</td>\n",
       "      <td>Obs9</td>\n",
       "      <td>Obs10</td>\n",
       "    </tr>\n",
       "    <tr>\n",
       "      <th>8</th>\n",
       "      <td>Obs9</td>\n",
       "      <td>Obs10</td>\n",
       "      <td>Obs11</td>\n",
       "    </tr>\n",
       "    <tr>\n",
       "      <th>9</th>\n",
       "      <td>Obs10</td>\n",
       "      <td>Obs11</td>\n",
       "      <td>Obs12</td>\n",
       "    </tr>\n",
       "    <tr>\n",
       "      <th>10</th>\n",
       "      <td>Obs11</td>\n",
       "      <td>Obs12</td>\n",
       "      <td>Obs13</td>\n",
       "    </tr>\n",
       "    <tr>\n",
       "      <th>11</th>\n",
       "      <td>Obs12</td>\n",
       "      <td>Obs13</td>\n",
       "      <td>Obs14</td>\n",
       "    </tr>\n",
       "    <tr>\n",
       "      <th>12</th>\n",
       "      <td>Obs13</td>\n",
       "      <td>Obs14</td>\n",
       "      <td>Pred15</td>\n",
       "    </tr>\n",
       "    <tr>\n",
       "      <th>13</th>\n",
       "      <td>Obs14</td>\n",
       "      <td>Pred15</td>\n",
       "      <td>Pred16</td>\n",
       "    </tr>\n",
       "  </tbody>\n",
       "</table>\n",
       "</div>"
      ],
      "text/plain": [
       "       x1      x2       y\n",
       "0    Obs1    Obs2    Obs3\n",
       "1    Obs2    Obs3    Obs4\n",
       "2    Obs3    Obs4    Obs5\n",
       "3    Obs4    Obs5    Obs6\n",
       "4    Obs5    Obs6    Obs7\n",
       "5    Obs6    Obs7    Obs8\n",
       "6    Obs7    Obs8    Obs9\n",
       "7    Obs8    Obs9   Obs10\n",
       "8    Obs9   Obs10   Obs11\n",
       "9   Obs10   Obs11   Obs12\n",
       "10  Obs11   Obs12   Obs13\n",
       "11  Obs12   Obs13   Obs14\n",
       "12  Obs13   Obs14  Pred15\n",
       "13  Obs14  Pred15  Pred16"
      ]
     },
     "execution_count": 12,
     "metadata": {},
     "output_type": "execute_result"
    }
   ],
   "source": [
    "df_tab = add_predicted_row(df_tab)\n",
    "df_tab"
   ]
  },
  {
   "cell_type": "markdown",
   "id": "0e6cf90f",
   "metadata": {},
   "source": [
    "## Demo with numbers.\n",
    "\n",
    "Lets make a demonstration with some number to see how this works."
   ]
  },
  {
   "cell_type": "code",
   "execution_count": 25,
   "id": "828c8bde",
   "metadata": {},
   "outputs": [
    {
     "data": {
      "text/html": [
       "<div>\n",
       "<style scoped>\n",
       "    .dataframe tbody tr th:only-of-type {\n",
       "        vertical-align: middle;\n",
       "    }\n",
       "\n",
       "    .dataframe tbody tr th {\n",
       "        vertical-align: top;\n",
       "    }\n",
       "\n",
       "    .dataframe thead th {\n",
       "        text-align: right;\n",
       "    }\n",
       "</style>\n",
       "<table border=\"1\" class=\"dataframe\">\n",
       "  <thead>\n",
       "    <tr style=\"text-align: right;\">\n",
       "      <th></th>\n",
       "      <th>DateTime</th>\n",
       "      <th>Obs</th>\n",
       "    </tr>\n",
       "  </thead>\n",
       "  <tbody>\n",
       "    <tr>\n",
       "      <th>0</th>\n",
       "      <td>2023-10-10 00:00:00</td>\n",
       "      <td>-1.562583</td>\n",
       "    </tr>\n",
       "    <tr>\n",
       "      <th>1</th>\n",
       "      <td>2023-10-10 01:00:00</td>\n",
       "      <td>-0.886739</td>\n",
       "    </tr>\n",
       "    <tr>\n",
       "      <th>2</th>\n",
       "      <td>2023-10-10 02:00:00</td>\n",
       "      <td>0.202450</td>\n",
       "    </tr>\n",
       "    <tr>\n",
       "      <th>3</th>\n",
       "      <td>2023-10-10 03:00:00</td>\n",
       "      <td>2.942305</td>\n",
       "    </tr>\n",
       "    <tr>\n",
       "      <th>4</th>\n",
       "      <td>2023-10-10 04:00:00</td>\n",
       "      <td>4.283796</td>\n",
       "    </tr>\n",
       "    <tr>\n",
       "      <th>5</th>\n",
       "      <td>2023-10-10 05:00:00</td>\n",
       "      <td>3.994006</td>\n",
       "    </tr>\n",
       "    <tr>\n",
       "      <th>6</th>\n",
       "      <td>2023-10-10 06:00:00</td>\n",
       "      <td>1.935525</td>\n",
       "    </tr>\n",
       "    <tr>\n",
       "      <th>7</th>\n",
       "      <td>2023-10-10 07:00:00</td>\n",
       "      <td>5.513822</td>\n",
       "    </tr>\n",
       "    <tr>\n",
       "      <th>8</th>\n",
       "      <td>2023-10-10 08:00:00</td>\n",
       "      <td>5.410689</td>\n",
       "    </tr>\n",
       "    <tr>\n",
       "      <th>9</th>\n",
       "      <td>2023-10-10 09:00:00</td>\n",
       "      <td>4.999322</td>\n",
       "    </tr>\n",
       "    <tr>\n",
       "      <th>10</th>\n",
       "      <td>2023-10-10 10:00:00</td>\n",
       "      <td>5.670867</td>\n",
       "    </tr>\n",
       "    <tr>\n",
       "      <th>11</th>\n",
       "      <td>2023-10-10 11:00:00</td>\n",
       "      <td>4.544526</td>\n",
       "    </tr>\n",
       "    <tr>\n",
       "      <th>12</th>\n",
       "      <td>2023-10-10 12:00:00</td>\n",
       "      <td>4.713798</td>\n",
       "    </tr>\n",
       "    <tr>\n",
       "      <th>13</th>\n",
       "      <td>2023-10-10 13:00:00</td>\n",
       "      <td>7.428107</td>\n",
       "    </tr>\n",
       "    <tr>\n",
       "      <th>14</th>\n",
       "      <td>2023-10-10 14:00:00</td>\n",
       "      <td>5.648058</td>\n",
       "    </tr>\n",
       "    <tr>\n",
       "      <th>15</th>\n",
       "      <td>2023-10-10 15:00:00</td>\n",
       "      <td>7.106096</td>\n",
       "    </tr>\n",
       "    <tr>\n",
       "      <th>16</th>\n",
       "      <td>2023-10-10 16:00:00</td>\n",
       "      <td>8.370322</td>\n",
       "    </tr>\n",
       "    <tr>\n",
       "      <th>17</th>\n",
       "      <td>2023-10-10 17:00:00</td>\n",
       "      <td>8.651467</td>\n",
       "    </tr>\n",
       "    <tr>\n",
       "      <th>18</th>\n",
       "      <td>2023-10-10 18:00:00</td>\n",
       "      <td>8.093839</td>\n",
       "    </tr>\n",
       "    <tr>\n",
       "      <th>19</th>\n",
       "      <td>2023-10-10 19:00:00</td>\n",
       "      <td>8.581021</td>\n",
       "    </tr>\n",
       "    <tr>\n",
       "      <th>20</th>\n",
       "      <td>2023-10-10 20:00:00</td>\n",
       "      <td>10.889436</td>\n",
       "    </tr>\n",
       "    <tr>\n",
       "      <th>21</th>\n",
       "      <td>2023-10-10 21:00:00</td>\n",
       "      <td>11.058701</td>\n",
       "    </tr>\n",
       "    <tr>\n",
       "      <th>22</th>\n",
       "      <td>2023-10-10 22:00:00</td>\n",
       "      <td>11.726266</td>\n",
       "    </tr>\n",
       "    <tr>\n",
       "      <th>23</th>\n",
       "      <td>2023-10-10 23:00:00</td>\n",
       "      <td>10.808712</td>\n",
       "    </tr>\n",
       "  </tbody>\n",
       "</table>\n",
       "</div>"
      ],
      "text/plain": [
       "              DateTime        Obs\n",
       "0  2023-10-10 00:00:00  -1.562583\n",
       "1  2023-10-10 01:00:00  -0.886739\n",
       "2  2023-10-10 02:00:00   0.202450\n",
       "3  2023-10-10 03:00:00   2.942305\n",
       "4  2023-10-10 04:00:00   4.283796\n",
       "5  2023-10-10 05:00:00   3.994006\n",
       "6  2023-10-10 06:00:00   1.935525\n",
       "7  2023-10-10 07:00:00   5.513822\n",
       "8  2023-10-10 08:00:00   5.410689\n",
       "9  2023-10-10 09:00:00   4.999322\n",
       "10 2023-10-10 10:00:00   5.670867\n",
       "11 2023-10-10 11:00:00   4.544526\n",
       "12 2023-10-10 12:00:00   4.713798\n",
       "13 2023-10-10 13:00:00   7.428107\n",
       "14 2023-10-10 14:00:00   5.648058\n",
       "15 2023-10-10 15:00:00   7.106096\n",
       "16 2023-10-10 16:00:00   8.370322\n",
       "17 2023-10-10 17:00:00   8.651467\n",
       "18 2023-10-10 18:00:00   8.093839\n",
       "19 2023-10-10 19:00:00   8.581021\n",
       "20 2023-10-10 20:00:00  10.889436\n",
       "21 2023-10-10 21:00:00  11.058701\n",
       "22 2023-10-10 22:00:00  11.726266\n",
       "23 2023-10-10 23:00:00  10.808712"
      ]
     },
     "execution_count": 25,
     "metadata": {},
     "output_type": "execute_result"
    }
   ],
   "source": [
    "\n",
    "\n",
    "# Define the start date and number of hours\n",
    "start_date = \"2023-10-10\"\n",
    "num_hours = 24  # for one day.\n",
    "\n",
    "# Generate the hourly datetime range\n",
    "date_range = pd.date_range(start=start_date, periods=num_hours, freq='H')\n",
    "\n",
    "# Create the DataFrame\n",
    "df_timeseries = pd.DataFrame({\n",
    "    'DateTime': date_range\n",
    "})\n",
    "\n",
    "\n",
    "def apply_function(index):\n",
    "    gaussian_noise = np.random.normal(0, 1)  # mean=0, std_dev=1\n",
    "    return 0.5 * index + gaussian_noise\n",
    "\n",
    "df_timeseries['Obs'] = df_timeseries.index.map(apply_function)\n",
    "df_timeseries"
   ]
  },
  {
   "cell_type": "code",
   "execution_count": 26,
   "id": "e735facc",
   "metadata": {},
   "outputs": [
    {
     "data": {
      "text/plain": [
       "[<matplotlib.lines.Line2D at 0x1fa0ff16ce0>]"
      ]
     },
     "execution_count": 26,
     "metadata": {},
     "output_type": "execute_result"
    },
    {
     "data": {
      "image/png": "[encoded data removed]",
      "text/plain": [
       "<Figure size 640x480 with 1 Axes>"
      ]
     },
     "metadata": {},
     "output_type": "display_data"
    }
   ],
   "source": [
    "plt.plot(df_timeseries['DateTime'],df_timeseries['Obs'],'s-')"
   ]
  },
  {
   "cell_type": "code",
   "execution_count": 34,
   "id": "b73536d5",
   "metadata": {},
   "outputs": [
    {
     "data": {
      "text/plain": [
       "[<matplotlib.lines.Line2D at 0x1fa14033760>]"
      ]
     },
     "execution_count": 34,
     "metadata": {},
     "output_type": "execute_result"
    },
    {
     "data": {
      "image/png": "[encoded data removed]",
      "text/plain": [
       "<Figure size 640x480 with 1 Axes>"
      ]
     },
     "metadata": {},
     "output_type": "display_data"
    }
   ],
   "source": [
    "df_tab = transformTable(df_timeseries,1)\n",
    "df_tab\n",
    "plt.plot(df_tab['x1'],df_tab['y'],'s')"
   ]
  },
  {
   "cell_type": "code",
   "execution_count": 48,
   "id": "f9981842",
   "metadata": {},
   "outputs": [
    {
     "data": {
      "text/html": [
       "<div>\n",
       "<style scoped>\n",
       "    .dataframe tbody tr th:only-of-type {\n",
       "        vertical-align: middle;\n",
       "    }\n",
       "\n",
       "    .dataframe tbody tr th {\n",
       "        vertical-align: top;\n",
       "    }\n",
       "\n",
       "    .dataframe thead th {\n",
       "        text-align: right;\n",
       "    }\n",
       "</style>\n",
       "<table border=\"1\" class=\"dataframe\">\n",
       "  <thead>\n",
       "    <tr style=\"text-align: right;\">\n",
       "      <th></th>\n",
       "      <th>DateTime</th>\n",
       "      <th>Obs</th>\n",
       "    </tr>\n",
       "  </thead>\n",
       "  <tbody>\n",
       "    <tr>\n",
       "      <th>0</th>\n",
       "      <td>2023-10-10 00:00:00</td>\n",
       "      <td>96.982104</td>\n",
       "    </tr>\n",
       "    <tr>\n",
       "      <th>1</th>\n",
       "      <td>2023-10-10 01:00:00</td>\n",
       "      <td>85.835936</td>\n",
       "    </tr>\n",
       "    <tr>\n",
       "      <th>2</th>\n",
       "      <td>2023-10-10 02:00:00</td>\n",
       "      <td>72.042069</td>\n",
       "    </tr>\n",
       "    <tr>\n",
       "      <th>3</th>\n",
       "      <td>2023-10-10 03:00:00</td>\n",
       "      <td>58.937695</td>\n",
       "    </tr>\n",
       "    <tr>\n",
       "      <th>4</th>\n",
       "      <td>2023-10-10 04:00:00</td>\n",
       "      <td>48.838572</td>\n",
       "    </tr>\n",
       "    <tr>\n",
       "      <th>5</th>\n",
       "      <td>2023-10-10 05:00:00</td>\n",
       "      <td>39.955086</td>\n",
       "    </tr>\n",
       "    <tr>\n",
       "      <th>6</th>\n",
       "      <td>2023-10-10 06:00:00</td>\n",
       "      <td>31.440698</td>\n",
       "    </tr>\n",
       "    <tr>\n",
       "      <th>7</th>\n",
       "      <td>2023-10-10 07:00:00</td>\n",
       "      <td>22.888872</td>\n",
       "    </tr>\n",
       "    <tr>\n",
       "      <th>8</th>\n",
       "      <td>2023-10-10 08:00:00</td>\n",
       "      <td>17.242653</td>\n",
       "    </tr>\n",
       "    <tr>\n",
       "      <th>9</th>\n",
       "      <td>2023-10-10 09:00:00</td>\n",
       "      <td>13.268764</td>\n",
       "    </tr>\n",
       "    <tr>\n",
       "      <th>10</th>\n",
       "      <td>2023-10-10 10:00:00</td>\n",
       "      <td>8.861696</td>\n",
       "    </tr>\n",
       "    <tr>\n",
       "      <th>11</th>\n",
       "      <td>2023-10-10 11:00:00</td>\n",
       "      <td>5.295940</td>\n",
       "    </tr>\n",
       "    <tr>\n",
       "      <th>12</th>\n",
       "      <td>2023-10-10 12:00:00</td>\n",
       "      <td>2.115034</td>\n",
       "    </tr>\n",
       "    <tr>\n",
       "      <th>13</th>\n",
       "      <td>2023-10-10 13:00:00</td>\n",
       "      <td>0.595929</td>\n",
       "    </tr>\n",
       "    <tr>\n",
       "      <th>14</th>\n",
       "      <td>2023-10-10 14:00:00</td>\n",
       "      <td>-0.845821</td>\n",
       "    </tr>\n",
       "    <tr>\n",
       "      <th>15</th>\n",
       "      <td>2023-10-10 15:00:00</td>\n",
       "      <td>-0.101018</td>\n",
       "    </tr>\n",
       "    <tr>\n",
       "      <th>16</th>\n",
       "      <td>2023-10-10 16:00:00</td>\n",
       "      <td>3.291194</td>\n",
       "    </tr>\n",
       "    <tr>\n",
       "      <th>17</th>\n",
       "      <td>2023-10-10 17:00:00</td>\n",
       "      <td>5.374847</td>\n",
       "    </tr>\n",
       "    <tr>\n",
       "      <th>18</th>\n",
       "      <td>2023-10-10 18:00:00</td>\n",
       "      <td>8.340139</td>\n",
       "    </tr>\n",
       "    <tr>\n",
       "      <th>19</th>\n",
       "      <td>2023-10-10 19:00:00</td>\n",
       "      <td>13.555418</td>\n",
       "    </tr>\n",
       "    <tr>\n",
       "      <th>20</th>\n",
       "      <td>2023-10-10 20:00:00</td>\n",
       "      <td>17.675871</td>\n",
       "    </tr>\n",
       "    <tr>\n",
       "      <th>21</th>\n",
       "      <td>2023-10-10 21:00:00</td>\n",
       "      <td>24.271906</td>\n",
       "    </tr>\n",
       "    <tr>\n",
       "      <th>22</th>\n",
       "      <td>2023-10-10 22:00:00</td>\n",
       "      <td>30.105085</td>\n",
       "    </tr>\n",
       "    <tr>\n",
       "      <th>23</th>\n",
       "      <td>2023-10-10 23:00:00</td>\n",
       "      <td>39.246934</td>\n",
       "    </tr>\n",
       "  </tbody>\n",
       "</table>\n",
       "</div>"
      ],
      "text/plain": [
       "              DateTime        Obs\n",
       "0  2023-10-10 00:00:00  96.982104\n",
       "1  2023-10-10 01:00:00  85.835936\n",
       "2  2023-10-10 02:00:00  72.042069\n",
       "3  2023-10-10 03:00:00  58.937695\n",
       "4  2023-10-10 04:00:00  48.838572\n",
       "5  2023-10-10 05:00:00  39.955086\n",
       "6  2023-10-10 06:00:00  31.440698\n",
       "7  2023-10-10 07:00:00  22.888872\n",
       "8  2023-10-10 08:00:00  17.242653\n",
       "9  2023-10-10 09:00:00  13.268764\n",
       "10 2023-10-10 10:00:00   8.861696\n",
       "11 2023-10-10 11:00:00   5.295940\n",
       "12 2023-10-10 12:00:00   2.115034\n",
       "13 2023-10-10 13:00:00   0.595929\n",
       "14 2023-10-10 14:00:00  -0.845821\n",
       "15 2023-10-10 15:00:00  -0.101018\n",
       "16 2023-10-10 16:00:00   3.291194\n",
       "17 2023-10-10 17:00:00   5.374847\n",
       "18 2023-10-10 18:00:00   8.340139\n",
       "19 2023-10-10 19:00:00  13.555418\n",
       "20 2023-10-10 20:00:00  17.675871\n",
       "21 2023-10-10 21:00:00  24.271906\n",
       "22 2023-10-10 22:00:00  30.105085\n",
       "23 2023-10-10 23:00:00  39.246934"
      ]
     },
     "execution_count": 48,
     "metadata": {},
     "output_type": "execute_result"
    }
   ],
   "source": [
    "# Define the start date and number of hours\n",
    "start_date = \"2023-10-10\"\n",
    "num_hours = 24  # for one day.\n",
    "\n",
    "# Generate the hourly datetime range\n",
    "date_range = pd.date_range(start=start_date, periods=num_hours, freq='H')\n",
    "\n",
    "# Create the DataFrame\n",
    "df_timeseries = pd.DataFrame({\n",
    "    'DateTime': date_range\n",
    "})\n",
    "\n",
    "\n",
    "def apply_function(index):\n",
    "    gaussian_noise = np.random.normal(0, 1)  # mean=0, std_dev=1\n",
    "    return 0.5 * (index -14)**2 +  gaussian_noise\n",
    "\n",
    "df_timeseries['Obs'] = df_timeseries.index.map(apply_function)\n",
    "df_timeseries"
   ]
  },
  {
   "cell_type": "code",
   "execution_count": 49,
   "id": "00d147dc",
   "metadata": {},
   "outputs": [
    {
     "data": {
      "text/plain": [
       "[<matplotlib.lines.Line2D at 0x1fa147c1ae0>]"
      ]
     },
     "execution_count": 49,
     "metadata": {},
     "output_type": "execute_result"
    },
    {
     "data": {
      "image/png": "[encoded data removed]",
      "text/plain": [
       "<Figure size 640x480 with 1 Axes>"
      ]
     },
     "metadata": {},
     "output_type": "display_data"
    }
   ],
   "source": [
    "plt.plot(df_timeseries['DateTime'],df_timeseries['Obs'],'s-')"
   ]
  },
  {
   "cell_type": "code",
   "execution_count": 50,
   "id": "36fbca56",
   "metadata": {},
   "outputs": [],
   "source": [
    "df_tab = transformTable(df_timeseries,2)\n"
   ]
  },
  {
   "cell_type": "code",
   "execution_count": 51,
   "id": "f3193e7c",
   "metadata": {},
   "outputs": [
    {
     "data": {
      "application/vnd.plotly.v1+json": {
       "config": {
        "plotlyServerURL": "https://plot.ly"
       },
       "data": [
        {
         "marker": {
          "opacity": 0.8,
          "size": 4
         },
         "mode": "markers",
         "type": "scatter3d",
         "x": [
          96.9821042097865,
          85.83593598275777,
          72.0420689762052,
          58.937694656865624,
          48.83857213317057,
          39.955085863968016,
          31.44069762745308,
          22.888871578627874,
          17.242653434789315,
          13.268764405027163,
          8.861695754102948,
          5.29594000481838,
          2.115033829998004,
          0.5959293096621961,
          -0.8458205345668224,
          -0.10101753309436434,
          3.2911942134598045,
          5.374846727868049,
          8.340139370478,
          13.55541776184895,
          17.67587094890426,
          24.271905737204243
         ],
         "y": [
          85.83593598275777,
          72.0420689762052,
          58.937694656865624,
          48.83857213317057,
          39.955085863968016,
          31.44069762745308,
          22.888871578627874,
          17.242653434789315,
          13.268764405027163,
          8.861695754102948,
          5.29594000481838,
          2.115033829998004,
          0.5959293096621961,
          -0.8458205345668224,
          -0.10101753309436434,
          3.2911942134598045,
          5.374846727868049,
          8.340139370478,
          13.55541776184895,
          17.67587094890426,
          24.271905737204243,
          30.105084699979002
         ],
         "z": [
          72.0420689762052,
          58.937694656865624,
          48.83857213317057,
          39.955085863968016,
          31.44069762745308,
          22.888871578627874,
          17.242653434789315,
          13.268764405027163,
          8.861695754102948,
          5.29594000481838,
          2.115033829998004,
          0.5959293096621961,
          -0.8458205345668224,
          -0.10101753309436434,
          3.2911942134598045,
          5.374846727868049,
          8.340139370478,
          13.55541776184895,
          17.67587094890426,
          24.271905737204243,
          30.105084699979002,
          39.246934200906665
         ]
        }
       ],
       "layout": {
        "autosize": true,
        "scene": {
         "aspectmode": "auto",
         "aspectratio": {
          "x": 1.148455576844483,
          "y": 1.0176046046478475,
          "z": 0.8556708466608082
         },
         "xaxis": {
          "title": {
           "text": "X1 Label"
          },
          "type": "linear"
         },
         "yaxis": {
          "title": {
           "text": "X2 Label"
          },
          "type": "linear"
         },
         "zaxis": {
          "title": {
           "text": "Y Label"
          },
          "type": "linear"
         }
        },
        "template": {
         "data": {
          "bar": [
           {
            "error_x": {
             "color": "#2a3f5f"
            },
            "error_y": {
             "color": "#2a3f5f"
            },
            "marker": {
             "line": {
              "color": "#E5ECF6",
              "width": 0.5
             },
             "pattern": {
              "fillmode": "overlay",
              "size": 10,
              "solidity": 0.2
             }
            },
            "type": "bar"
           }
          ],
          "barpolar": [
           {
            "marker": {
             "line": {
              "color": "#E5ECF6",
              "width": 0.5
             },
             "pattern": {
              "fillmode": "overlay",
              "size": 10,
              "solidity": 0.2
             }
            },
            "type": "barpolar"
           }
          ],
          "carpet": [
           {
            "aaxis": {
             "endlinecolor": "#2a3f5f",
             "gridcolor": "white",
             "linecolor": "white",
             "minorgridcolor": "white",
             "startlinecolor": "#2a3f5f"
            },
            "baxis": {
             "endlinecolor": "#2a3f5f",
             "gridcolor": "white",
             "linecolor": "white",
             "minorgridcolor": "white",
             "startlinecolor": "#2a3f5f"
            },
            "type": "carpet"
           }
          ],
          "choropleth": [
           {
            "colorbar": {
             "outlinewidth": 0,
             "ticks": ""
            },
            "type": "choropleth"
           }
          ],
          "contour": [
           {
            "colorbar": {
             "outlinewidth": 0,
             "ticks": ""
            },
            "colorscale": [
             [
              0,
              "#0d0887"
             ],
             [
              0.1111111111111111,
              "#46039f"
             ],
             [
              0.2222222222222222,
              "#7201a8"
             ],
             [
              0.3333333333333333,
              "#9c179e"
             ],
             [
              0.4444444444444444,
              "#bd3786"
             ],
             [
              0.5555555555555556,
              "#d8576b"
             ],
             [
              0.6666666666666666,
              "#ed7953"
             ],
             [
              0.7777777777777778,
              "#fb9f3a"
             ],
             [
              0.8888888888888888,
              "#fdca26"
             ],
             [
              1,
              "#f0f921"
             ]
            ],
            "type": "contour"
           }
          ],
          "contourcarpet": [
           {
            "colorbar": {
             "outlinewidth": 0,
             "ticks": ""
            },
            "type": "contourcarpet"
           }
          ],
          "heatmap": [
           {
            "colorbar": {
             "outlinewidth": 0,
             "ticks": ""
            },
            "colorscale": [
             [
              0,
              "#0d0887"
             ],
             [
              0.1111111111111111,
              "#46039f"
             ],
             [
              0.2222222222222222,
              "#7201a8"
             ],
             [
              0.3333333333333333,
              "#9c179e"
             ],
             [
              0.4444444444444444,
              "#bd3786"
             ],
             [
              0.5555555555555556,
              "#d8576b"
             ],
             [
              0.6666666666666666,
              "#ed7953"
             ],
             [
              0.7777777777777778,
              "#fb9f3a"
             ],
             [
              0.8888888888888888,
              "#fdca26"
             ],
             [
              1,
              "#f0f921"
             ]
            ],
            "type": "heatmap"
           }
          ],
          "heatmapgl": [
           {
            "colorbar": {
             "outlinewidth": 0,
             "ticks": ""
            },
            "colorscale": [
             [
              0,
              "#0d0887"
             ],
             [
              0.1111111111111111,
              "#46039f"
             ],
             [
              0.2222222222222222,
              "#7201a8"
             ],
             [
              0.3333333333333333,
              "#9c179e"
             ],
             [
              0.4444444444444444,
              "#bd3786"
             ],
             [
              0.5555555555555556,
              "#d8576b"
             ],
             [
              0.6666666666666666,
              "#ed7953"
             ],
             [
              0.7777777777777778,
              "#fb9f3a"
             ],
             [
              0.8888888888888888,
              "#fdca26"
             ],
             [
              1,
              "#f0f921"
             ]
            ],
            "type": "heatmapgl"
           }
          ],
          "histogram": [
           {
            "marker": {
             "pattern": {
              "fillmode": "overlay",
              "size": 10,
              "solidity": 0.2
             }
            },
            "type": "histogram"
           }
          ],
          "histogram2d": [
           {
            "colorbar": {
             "outlinewidth": 0,
             "ticks": ""
            },
            "colorscale": [
             [
              0,
              "#0d0887"
             ],
             [
              0.1111111111111111,
              "#46039f"
             ],
             [
              0.2222222222222222,
              "#7201a8"
             ],
             [
              0.3333333333333333,
              "#9c179e"
             ],
             [
              0.4444444444444444,
              "#bd3786"
             ],
             [
              0.5555555555555556,
              "#d8576b"
             ],
             [
              0.6666666666666666,
              "#ed7953"
             ],
             [
              0.7777777777777778,
              "#fb9f3a"
             ],
             [
              0.8888888888888888,
              "#fdca26"
             ],
             [
              1,
              "#f0f921"
             ]
            ],
            "type": "histogram2d"
           }
          ],
          "histogram2dcontour": [
           {
            "colorbar": {
             "outlinewidth": 0,
             "ticks": ""
            },
            "colorscale": [
             [
              0,
              "#0d0887"
             ],
             [
              0.1111111111111111,
              "#46039f"
             ],
             [
              0.2222222222222222,
              "#7201a8"
             ],
             [
              0.3333333333333333,
              "#9c179e"
             ],
             [
              0.4444444444444444,
              "#bd3786"
             ],
             [
              0.5555555555555556,
              "#d8576b"
             ],
             [
              0.6666666666666666,
              "#ed7953"
             ],
             [
              0.7777777777777778,
              "#fb9f3a"
             ],
             [
              0.8888888888888888,
              "#fdca26"
             ],
             [
              1,
              "#f0f921"
             ]
            ],
            "type": "histogram2dcontour"
           }
          ],
          "mesh3d": [
           {
            "colorbar": {
             "outlinewidth": 0,
             "ticks": ""
            },
            "type": "mesh3d"
           }
          ],
          "parcoords": [
           {
            "line": {
             "colorbar": {
              "outlinewidth": 0,
              "ticks": ""
             }
            },
            "type": "parcoords"
           }
          ],
          "pie": [
           {
            "automargin": true,
            "type": "pie"
           }
          ],
          "scatter": [
           {
            "fillpattern": {
             "fillmode": "overlay",
             "size": 10,
             "solidity": 0.2
            },
            "type": "scatter"
           }
          ],
          "scatter3d": [
           {
            "line": {
             "colorbar": {
              "outlinewidth": 0,
              "ticks": ""
             }
            },
            "marker": {
             "colorbar": {
              "outlinewidth": 0,
              "ticks": ""
             }
            },
            "type": "scatter3d"
           }
          ],
          "scattercarpet": [
           {
            "marker": {
             "colorbar": {
              "outlinewidth": 0,
              "ticks": ""
             }
            },
            "type": "scattercarpet"
           }
          ],
          "scattergeo": [
           {
            "marker": {
             "colorbar": {
              "outlinewidth": 0,
              "ticks": ""
             }
            },
            "type": "scattergeo"
           }
          ],
          "scattergl": [
           {
            "marker": {
             "colorbar": {
              "outlinewidth": 0,
              "ticks": ""
             }
            },
            "type": "scattergl"
           }
          ],
          "scattermapbox": [
           {
            "marker": {
             "colorbar": {
              "outlinewidth": 0,
              "ticks": ""
             }
            },
            "type": "scattermapbox"
           }
          ],
          "scatterpolar": [
           {
            "marker": {
             "colorbar": {
              "outlinewidth": 0,
              "ticks": ""
             }
            },
            "type": "scatterpolar"
           }
          ],
          "scatterpolargl": [
           {
            "marker": {
             "colorbar": {
              "outlinewidth": 0,
              "ticks": ""
             }
            },
            "type": "scatterpolargl"
           }
          ],
          "scatterternary": [
           {
            "marker": {
             "colorbar": {
              "outlinewidth": 0,
              "ticks": ""
             }
            },
            "type": "scatterternary"
           }
          ],
          "surface": [
           {
            "colorbar": {
             "outlinewidth": 0,
             "ticks": ""
            },
            "colorscale": [
             [
              0,
              "#0d0887"
             ],
             [
              0.1111111111111111,
              "#46039f"
             ],
             [
              0.2222222222222222,
              "#7201a8"
             ],
             [
              0.3333333333333333,
              "#9c179e"
             ],
             [
              0.4444444444444444,
              "#bd3786"
             ],
             [
              0.5555555555555556,
              "#d8576b"
             ],
             [
              0.6666666666666666,
              "#ed7953"
             ],
             [
              0.7777777777777778,
              "#fb9f3a"
             ],
             [
              0.8888888888888888,
              "#fdca26"
             ],
             [
              1,
              "#f0f921"
             ]
            ],
            "type": "surface"
           }
          ],
          "table": [
           {
            "cells": {
             "fill": {
              "color": "#EBF0F8"
             },
             "line": {
              "color": "white"
             }
            },
            "header": {
             "fill": {
              "color": "#C8D4E3"
             },
             "line": {
              "color": "white"
             }
            },
            "type": "table"
           }
          ]
         },
         "layout": {
          "annotationdefaults": {
           "arrowcolor": "#2a3f5f",
           "arrowhead": 0,
           "arrowwidth": 1
          },
          "autotypenumbers": "strict",
          "coloraxis": {
           "colorbar": {
            "outlinewidth": 0,
            "ticks": ""
           }
          },
          "colorscale": {
           "diverging": [
            [
             0,
             "#8e0152"
            ],
            [
             0.1,
             "#c51b7d"
            ],
            [
             0.2,
             "#de77ae"
            ],
            [
             0.3,
             "#f1b6da"
            ],
            [
             0.4,
             "#fde0ef"
            ],
            [
             0.5,
             "#f7f7f7"
            ],
            [
             0.6,
             "#e6f5d0"
            ],
            [
             0.7,
             "#b8e186"
            ],
            [
             0.8,
             "#7fbc41"
            ],
            [
             0.9,
             "#4d9221"
            ],
            [
             1,
             "#276419"
            ]
           ],
           "sequential": [
            [
             0,
             "#0d0887"
            ],
            [
             0.1111111111111111,
             "#46039f"
            ],
            [
             0.2222222222222222,
             "#7201a8"
            ],
            [
             0.3333333333333333,
             "#9c179e"
            ],
            [
             0.4444444444444444,
             "#bd3786"
            ],
            [
             0.5555555555555556,
             "#d8576b"
            ],
            [
             0.6666666666666666,
             "#ed7953"
            ],
            [
             0.7777777777777778,
             "#fb9f3a"
            ],
            [
             0.8888888888888888,
             "#fdca26"
            ],
            [
             1,
             "#f0f921"
            ]
           ],
           "sequentialminus": [
            [
             0,
             "#0d0887"
            ],
            [
             0.1111111111111111,
             "#46039f"
            ],
            [
             0.2222222222222222,
             "#7201a8"
            ],
            [
             0.3333333333333333,
             "#9c179e"
            ],
            [
             0.4444444444444444,
             "#bd3786"
            ],
            [
             0.5555555555555556,
             "#d8576b"
            ],
            [
             0.6666666666666666,
             "#ed7953"
            ],
            [
             0.7777777777777778,
             "#fb9f3a"
            ],
            [
             0.8888888888888888,
             "#fdca26"
            ],
            [
             1,
             "#f0f921"
            ]
           ]
          },
          "colorway": [
           "#636efa",
           "#EF553B",
           "#00cc96",
           "#ab63fa",
           "#FFA15A",
           "#19d3f3",
           "#FF6692",
           "#B6E880",
           "#FF97FF",
           "#FECB52"
          ],
          "font": {
           "color": "#2a3f5f"
          },
          "geo": {
           "bgcolor": "white",
           "lakecolor": "white",
           "landcolor": "#E5ECF6",
           "showlakes": true,
           "showland": true,
           "subunitcolor": "white"
          },
          "hoverlabel": {
           "align": "left"
          },
          "hovermode": "closest",
          "mapbox": {
           "style": "light"
          },
          "paper_bgcolor": "white",
          "plot_bgcolor": "#E5ECF6",
          "polar": {
           "angularaxis": {
            "gridcolor": "white",
            "linecolor": "white",
            "ticks": ""
           },
           "bgcolor": "#E5ECF6",
           "radialaxis": {
            "gridcolor": "white",
            "linecolor": "white",
            "ticks": ""
           }
          },
          "scene": {
           "xaxis": {
            "backgroundcolor": "#E5ECF6",
            "gridcolor": "white",
            "gridwidth": 2,
            "linecolor": "white",
            "showbackground": true,
            "ticks": "",
            "zerolinecolor": "white"
           },
           "yaxis": {
            "backgroundcolor": "#E5ECF6",
            "gridcolor": "white",
            "gridwidth": 2,
            "linecolor": "white",
            "showbackground": true,
            "ticks": "",
            "zerolinecolor": "white"
           },
           "zaxis": {
            "backgroundcolor": "#E5ECF6",
            "gridcolor": "white",
            "gridwidth": 2,
            "linecolor": "white",
            "showbackground": true,
            "ticks": "",
            "zerolinecolor": "white"
           }
          },
          "shapedefaults": {
           "line": {
            "color": "#2a3f5f"
           }
          },
          "ternary": {
           "aaxis": {
            "gridcolor": "white",
            "linecolor": "white",
            "ticks": ""
           },
           "baxis": {
            "gridcolor": "white",
            "linecolor": "white",
            "ticks": ""
           },
           "bgcolor": "#E5ECF6",
           "caxis": {
            "gridcolor": "white",
            "linecolor": "white",
            "ticks": ""
           }
          },
          "title": {
           "x": 0.05
          },
          "xaxis": {
           "automargin": true,
           "gridcolor": "white",
           "linecolor": "white",
           "ticks": "",
           "title": {
            "standoff": 15
           },
           "zerolinecolor": "white",
           "zerolinewidth": 2
          },
          "yaxis": {
           "automargin": true,
           "gridcolor": "white",
           "linecolor": "white",
           "ticks": "",
           "title": {
            "standoff": 15
           },
           "zerolinecolor": "white",
           "zerolinewidth": 2
          }
         }
        }
       }
      },
      "image/png": "[encoded data removed]",
      "text/html": [
       "<div>                            <div id=\"704f6e37-1473-4bd6-b222-a9bf421607f4\" class=\"plotly-graph-div\" style=\"height:525px; width:100%;\"></div>            <script type=\"text/javascript\">                require([\"plotly\"], function(Plotly) {                    window.PLOTLYENV=window.PLOTLYENV || {};                                    if (document.getElementById(\"704f6e37-1473-4bd6-b222-a9bf421607f4\")) {                    Plotly.newPlot(                        \"704f6e37-1473-4bd6-b222-a9bf421607f4\",                        [{\"marker\":{\"opacity\":0.8,\"size\":4},\"mode\":\"markers\",\"x\":[96.9821042097865,85.83593598275777,72.0420689762052,58.937694656865624,48.83857213317057,39.955085863968016,31.44069762745308,22.888871578627874,17.242653434789315,13.268764405027163,8.861695754102948,5.29594000481838,2.115033829998004,0.5959293096621961,-0.8458205345668224,-0.10101753309436434,3.2911942134598045,5.374846727868049,8.340139370478,13.55541776184895,17.67587094890426,24.271905737204243],\"y\":[85.83593598275777,72.0420689762052,58.937694656865624,48.83857213317057,39.955085863968016,31.44069762745308,22.888871578627874,17.242653434789315,13.268764405027163,8.861695754102948,5.29594000481838,2.115033829998004,0.5959293096621961,-0.8458205345668224,-0.10101753309436434,3.2911942134598045,5.374846727868049,8.340139370478,13.55541776184895,17.67587094890426,24.271905737204243,30.105084699979002],\"z\":[72.0420689762052,58.937694656865624,48.83857213317057,39.955085863968016,31.44069762745308,22.888871578627874,17.242653434789315,13.268764405027163,8.861695754102948,5.29594000481838,2.115033829998004,0.5959293096621961,-0.8458205345668224,-0.10101753309436434,3.2911942134598045,5.374846727868049,8.340139370478,13.55541776184895,17.67587094890426,24.271905737204243,30.105084699979002,39.246934200906665],\"type\":\"scatter3d\"}],                        {\"template\":{\"data\":{\"histogram2dcontour\":[{\"type\":\"histogram2dcontour\",\"colorbar\":{\"outlinewidth\":0,\"ticks\":\"\"},\"colorscale\":[[0.0,\"#0d0887\"],[0.1111111111111111,\"#46039f\"],[0.2222222222222222,\"#7201a8\"],[0.3333333333333333,\"#9c179e\"],[0.4444444444444444,\"#bd3786\"],[0.5555555555555556,\"#d8576b\"],[0.6666666666666666,\"#ed7953\"],[0.7777777777777778,\"#fb9f3a\"],[0.8888888888888888,\"#fdca26\"],[1.0,\"#f0f921\"]]}],\"choropleth\":[{\"type\":\"choropleth\",\"colorbar\":{\"outlinewidth\":0,\"ticks\":\"\"}}],\"histogram2d\":[{\"type\":\"histogram2d\",\"colorbar\":{\"outlinewidth\":0,\"ticks\":\"\"},\"colorscale\":[[0.0,\"#0d0887\"],[0.1111111111111111,\"#46039f\"],[0.2222222222222222,\"#7201a8\"],[0.3333333333333333,\"#9c179e\"],[0.4444444444444444,\"#bd3786\"],[0.5555555555555556,\"#d8576b\"],[0.6666666666666666,\"#ed7953\"],[0.7777777777777778,\"#fb9f3a\"],[0.8888888888888888,\"#fdca26\"],[1.0,\"#f0f921\"]]}],\"heatmap\":[{\"type\":\"heatmap\",\"colorbar\":{\"outlinewidth\":0,\"ticks\":\"\"},\"colorscale\":[[0.0,\"#0d0887\"],[0.1111111111111111,\"#46039f\"],[0.2222222222222222,\"#7201a8\"],[0.3333333333333333,\"#9c179e\"],[0.4444444444444444,\"#bd3786\"],[0.5555555555555556,\"#d8576b\"],[0.6666666666666666,\"#ed7953\"],[0.7777777777777778,\"#fb9f3a\"],[0.8888888888888888,\"#fdca26\"],[1.0,\"#f0f921\"]]}],\"heatmapgl\":[{\"type\":\"heatmapgl\",\"colorbar\":{\"outlinewidth\":0,\"ticks\":\"\"},\"colorscale\":[[0.0,\"#0d0887\"],[0.1111111111111111,\"#46039f\"],[0.2222222222222222,\"#7201a8\"],[0.3333333333333333,\"#9c179e\"],[0.4444444444444444,\"#bd3786\"],[0.5555555555555556,\"#d8576b\"],[0.6666666666666666,\"#ed7953\"],[0.7777777777777778,\"#fb9f3a\"],[0.8888888888888888,\"#fdca26\"],[1.0,\"#f0f921\"]]}],\"contourcarpet\":[{\"type\":\"contourcarpet\",\"colorbar\":{\"outlinewidth\":0,\"ticks\":\"\"}}],\"contour\":[{\"type\":\"contour\",\"colorbar\":{\"outlinewidth\":0,\"ticks\":\"\"},\"colorscale\":[[0.0,\"#0d0887\"],[0.1111111111111111,\"#46039f\"],[0.2222222222222222,\"#7201a8\"],[0.3333333333333333,\"#9c179e\"],[0.4444444444444444,\"#bd3786\"],[0.5555555555555556,\"#d8576b\"],[0.6666666666666666,\"#ed7953\"],[0.7777777777777778,\"#fb9f3a\"],[0.8888888888888888,\"#fdca26\"],[1.0,\"#f0f921\"]]}],\"surface\":[{\"type\":\"surface\",\"colorbar\":{\"outlinewidth\":0,\"ticks\":\"\"},\"colorscale\":[[0.0,\"#0d0887\"],[0.1111111111111111,\"#46039f\"],[0.2222222222222222,\"#7201a8\"],[0.3333333333333333,\"#9c179e\"],[0.4444444444444444,\"#bd3786\"],[0.5555555555555556,\"#d8576b\"],[0.6666666666666666,\"#ed7953\"],[0.7777777777777778,\"#fb9f3a\"],[0.8888888888888888,\"#fdca26\"],[1.0,\"#f0f921\"]]}],\"mesh3d\":[{\"type\":\"mesh3d\",\"colorbar\":{\"outlinewidth\":0,\"ticks\":\"\"}}],\"scatter\":[{\"fillpattern\":{\"fillmode\":\"overlay\",\"size\":10,\"solidity\":0.2},\"type\":\"scatter\"}],\"parcoords\":[{\"type\":\"parcoords\",\"line\":{\"colorbar\":{\"outlinewidth\":0,\"ticks\":\"\"}}}],\"scatterpolargl\":[{\"type\":\"scatterpolargl\",\"marker\":{\"colorbar\":{\"outlinewidth\":0,\"ticks\":\"\"}}}],\"bar\":[{\"error_x\":{\"color\":\"#2a3f5f\"},\"error_y\":{\"color\":\"#2a3f5f\"},\"marker\":{\"line\":{\"color\":\"#E5ECF6\",\"width\":0.5},\"pattern\":{\"fillmode\":\"overlay\",\"size\":10,\"solidity\":0.2}},\"type\":\"bar\"}],\"scattergeo\":[{\"type\":\"scattergeo\",\"marker\":{\"colorbar\":{\"outlinewidth\":0,\"ticks\":\"\"}}}],\"scatterpolar\":[{\"type\":\"scatterpolar\",\"marker\":{\"colorbar\":{\"outlinewidth\":0,\"ticks\":\"\"}}}],\"histogram\":[{\"marker\":{\"pattern\":{\"fillmode\":\"overlay\",\"size\":10,\"solidity\":0.2}},\"type\":\"histogram\"}],\"scattergl\":[{\"type\":\"scattergl\",\"marker\":{\"colorbar\":{\"outlinewidth\":0,\"ticks\":\"\"}}}],\"scatter3d\":[{\"type\":\"scatter3d\",\"line\":{\"colorbar\":{\"outlinewidth\":0,\"ticks\":\"\"}},\"marker\":{\"colorbar\":{\"outlinewidth\":0,\"ticks\":\"\"}}}],\"scattermapbox\":[{\"type\":\"scattermapbox\",\"marker\":{\"colorbar\":{\"outlinewidth\":0,\"ticks\":\"\"}}}],\"scatterternary\":[{\"type\":\"scatterternary\",\"marker\":{\"colorbar\":{\"outlinewidth\":0,\"ticks\":\"\"}}}],\"scattercarpet\":[{\"type\":\"scattercarpet\",\"marker\":{\"colorbar\":{\"outlinewidth\":0,\"ticks\":\"\"}}}],\"carpet\":[{\"aaxis\":{\"endlinecolor\":\"#2a3f5f\",\"gridcolor\":\"white\",\"linecolor\":\"white\",\"minorgridcolor\":\"white\",\"startlinecolor\":\"#2a3f5f\"},\"baxis\":{\"endlinecolor\":\"#2a3f5f\",\"gridcolor\":\"white\",\"linecolor\":\"white\",\"minorgridcolor\":\"white\",\"startlinecolor\":\"#2a3f5f\"},\"type\":\"carpet\"}],\"table\":[{\"cells\":{\"fill\":{\"color\":\"#EBF0F8\"},\"line\":{\"color\":\"white\"}},\"header\":{\"fill\":{\"color\":\"#C8D4E3\"},\"line\":{\"color\":\"white\"}},\"type\":\"table\"}],\"barpolar\":[{\"marker\":{\"line\":{\"color\":\"#E5ECF6\",\"width\":0.5},\"pattern\":{\"fillmode\":\"overlay\",\"size\":10,\"solidity\":0.2}},\"type\":\"barpolar\"}],\"pie\":[{\"automargin\":true,\"type\":\"pie\"}]},\"layout\":{\"autotypenumbers\":\"strict\",\"colorway\":[\"#636efa\",\"#EF553B\",\"#00cc96\",\"#ab63fa\",\"#FFA15A\",\"#19d3f3\",\"#FF6692\",\"#B6E880\",\"#FF97FF\",\"#FECB52\"],\"font\":{\"color\":\"#2a3f5f\"},\"hovermode\":\"closest\",\"hoverlabel\":{\"align\":\"left\"},\"paper_bgcolor\":\"white\",\"plot_bgcolor\":\"#E5ECF6\",\"polar\":{\"bgcolor\":\"#E5ECF6\",\"angularaxis\":{\"gridcolor\":\"white\",\"linecolor\":\"white\",\"ticks\":\"\"},\"radialaxis\":{\"gridcolor\":\"white\",\"linecolor\":\"white\",\"ticks\":\"\"}},\"ternary\":{\"bgcolor\":\"#E5ECF6\",\"aaxis\":{\"gridcolor\":\"white\",\"linecolor\":\"white\",\"ticks\":\"\"},\"baxis\":{\"gridcolor\":\"white\",\"linecolor\":\"white\",\"ticks\":\"\"},\"caxis\":{\"gridcolor\":\"white\",\"linecolor\":\"white\",\"ticks\":\"\"}},\"coloraxis\":{\"colorbar\":{\"outlinewidth\":0,\"ticks\":\"\"}},\"colorscale\":{\"sequential\":[[0.0,\"#0d0887\"],[0.1111111111111111,\"#46039f\"],[0.2222222222222222,\"#7201a8\"],[0.3333333333333333,\"#9c179e\"],[0.4444444444444444,\"#bd3786\"],[0.5555555555555556,\"#d8576b\"],[0.6666666666666666,\"#ed7953\"],[0.7777777777777778,\"#fb9f3a\"],[0.8888888888888888,\"#fdca26\"],[1.0,\"#f0f921\"]],\"sequentialminus\":[[0.0,\"#0d0887\"],[0.1111111111111111,\"#46039f\"],[0.2222222222222222,\"#7201a8\"],[0.3333333333333333,\"#9c179e\"],[0.4444444444444444,\"#bd3786\"],[0.5555555555555556,\"#d8576b\"],[0.6666666666666666,\"#ed7953\"],[0.7777777777777778,\"#fb9f3a\"],[0.8888888888888888,\"#fdca26\"],[1.0,\"#f0f921\"]],\"diverging\":[[0,\"#8e0152\"],[0.1,\"#c51b7d\"],[0.2,\"#de77ae\"],[0.3,\"#f1b6da\"],[0.4,\"#fde0ef\"],[0.5,\"#f7f7f7\"],[0.6,\"#e6f5d0\"],[0.7,\"#b8e186\"],[0.8,\"#7fbc41\"],[0.9,\"#4d9221\"],[1,\"#276419\"]]},\"xaxis\":{\"gridcolor\":\"white\",\"linecolor\":\"white\",\"ticks\":\"\",\"title\":{\"standoff\":15},\"zerolinecolor\":\"white\",\"automargin\":true,\"zerolinewidth\":2},\"yaxis\":{\"gridcolor\":\"white\",\"linecolor\":\"white\",\"ticks\":\"\",\"title\":{\"standoff\":15},\"zerolinecolor\":\"white\",\"automargin\":true,\"zerolinewidth\":2},\"scene\":{\"xaxis\":{\"backgroundcolor\":\"#E5ECF6\",\"gridcolor\":\"white\",\"linecolor\":\"white\",\"showbackground\":true,\"ticks\":\"\",\"zerolinecolor\":\"white\",\"gridwidth\":2},\"yaxis\":{\"backgroundcolor\":\"#E5ECF6\",\"gridcolor\":\"white\",\"linecolor\":\"white\",\"showbackground\":true,\"ticks\":\"\",\"zerolinecolor\":\"white\",\"gridwidth\":2},\"zaxis\":{\"backgroundcolor\":\"#E5ECF6\",\"gridcolor\":\"white\",\"linecolor\":\"white\",\"showbackground\":true,\"ticks\":\"\",\"zerolinecolor\":\"white\",\"gridwidth\":2}},\"shapedefaults\":{\"line\":{\"color\":\"#2a3f5f\"}},\"annotationdefaults\":{\"arrowcolor\":\"#2a3f5f\",\"arrowhead\":0,\"arrowwidth\":1},\"geo\":{\"bgcolor\":\"white\",\"landcolor\":\"#E5ECF6\",\"subunitcolor\":\"white\",\"showland\":true,\"showlakes\":true,\"lakecolor\":\"white\"},\"title\":{\"x\":0.05},\"mapbox\":{\"style\":\"light\"}}},\"scene\":{\"xaxis\":{\"title\":{\"text\":\"X1 Label\"}},\"yaxis\":{\"title\":{\"text\":\"X2 Label\"}},\"zaxis\":{\"title\":{\"text\":\"Y Label\"}}}},                        {\"responsive\": true}                    ).then(function(){\n",
       "                            \n",
       "var gd = document.getElementById('704f6e37-1473-4bd6-b222-a9bf421607f4');\n",
       "var x = new MutationObserver(function (mutations, observer) {{\n",
       "        var display = window.getComputedStyle(gd).display;\n",
       "        if (!display || display === 'none') {{\n",
       "            console.log([gd, 'removed!']);\n",
       "            Plotly.purge(gd);\n",
       "            observer.disconnect();\n",
       "        }}\n",
       "}});\n",
       "\n",
       "// Listen for the removal of the full notebook cells\n",
       "var notebookContainer = gd.closest('#notebook-container');\n",
       "if (notebookContainer) {{\n",
       "    x.observe(notebookContainer, {childList: true});\n",
       "}}\n",
       "\n",
       "// Listen for the clearing of the current output cell\n",
       "var outputEl = gd.closest('.output');\n",
       "if (outputEl) {{\n",
       "    x.observe(outputEl, {childList: true});\n",
       "}}\n",
       "\n",
       "                        })                };                });            </script>        </div>"
      ]
     },
     "metadata": {},
     "output_type": "display_data"
    }
   ],
   "source": [
    "import plotly.graph_objects as go\n",
    "\n",
    "# Create 3D scatter plot\n",
    "fig = go.Figure(data=[go.Scatter3d(\n",
    "    x=df_tab['x1'],\n",
    "    y=df_tab['x2'],\n",
    "    z=df_tab['y'],\n",
    "    mode='markers',\n",
    "    marker=dict(size=4, opacity=0.8)\n",
    ")])\n",
    "\n",
    "# Set axis labels\n",
    "fig.update_layout(scene=dict(\n",
    "    xaxis_title='X1 Label',\n",
    "    yaxis_title='X2 Label',\n",
    "    zaxis_title='Y Label'\n",
    "))\n",
    "\n",
    "# Show plot\n",
    "fig.show()\n"
   ]
  },
  {
   "cell_type": "code",
   "execution_count": null,
   "id": "17cc0f06",
   "metadata": {},
   "outputs": [],
   "source": []
  }
 ],
 "metadata": {
  "kernelspec": {
   "display_name": "Python 3 (ipykernel)",
   "language": "python",
   "name": "python3"
  },
  "language_info": {
   "codemirror_mode": {
    "name": "ipython",
    "version": 3
   },
   "file_extension": ".py",
   "mimetype": "text/x-python",
   "name": "python",
   "nbconvert_exporter": "python",
   "pygments_lexer": "ipython3",
   "version": "3.11.6"
  }
 },
 "nbformat": 4,
 "nbformat_minor": 5
}

{
 "cells": [
  {
   "cell_type": "markdown",
   "id": "8960e47f",
   "metadata": {},
   "source": [
    "# Forecasting Introduction\n",
    "\n",
    "Before we start diving in and making forecasting models we need flesh out some details."
   ]
  },
  {
   "cell_type": "code",
   "execution_count": 3,
   "id": "31d6112c",
   "metadata": {},
   "outputs": [],
   "source": [
    "import numpy as np\n",
    "import pandas as pd"
   ]
  },
  {
   "cell_type": "markdown",
   "id": "21a6cc5f",
   "metadata": {},
   "source": [
    "## Time series to tabular format\n",
    "\n",
    "This is going to be general at first then I will make a specific example.\n",
    "\n",
    "We start with a time-series of data. With associated observations"
   ]
  },
  {
   "cell_type": "code",
   "execution_count": 10,
   "id": "c56bd95d",
   "metadata": {},
   "outputs": [
    {
     "name": "stdout",
     "output_type": "stream",
     "text": [
      "   t   Obs\n",
      "0  1  Obs1\n",
      "1  2  Obs2\n",
      "2  3  Obs3\n",
      "3  4  Obs4\n",
      "4  5  Obs5\n",
      "5  6  Obs6\n",
      "6  7  Obs7\n",
      "7  8  Obs8\n",
      "8  9  Obs9\n"
     ]
    }
   ],
   "source": [
    "def generateObsTable(L):\n",
    "    # Create the initial DataFrame\n",
    "    t_values = list(range(1, L))  # Extended range for demonstration\n",
    "    obs_values = [\"Obs\" + str(i) for i in t_values]\n",
    "    df = pd.DataFrame({\n",
    "        't': t_values,\n",
    "        'Obs': obs_values\n",
    "    })\n",
    "    return df\n",
    "\n",
    "df_ts = generateObsTable(10)\n",
    "print(df_ts)"
   ]
  },
  {
   "cell_type": "code",
   "execution_count": 11,
   "id": "cc7a3fae",
   "metadata": {},
   "outputs": [],
   "source": [
    "def transformTable(df, N):\n",
    "    # Check if N is valid\n",
    "    if N >= len(df) - 1:\n",
    "        raise ValueError(\"N is too large for the provided DataFrame.\")\n",
    "    \n",
    "    # Create new DataFrame with shifted values\n",
    "    data = {}\n",
    "    for i in range(N):\n",
    "        data[f'x{i+1}'] = df['Obs'][i:-N+i].values\n",
    "    data['y'] = df['Obs'][N:].values\n",
    "    \n",
    "    df_new = pd.DataFrame(data)\n",
    "    return df_new"
   ]
  },
  {
   "cell_type": "code",
   "execution_count": 12,
   "id": "8aa84a92",
   "metadata": {},
   "outputs": [
    {
     "name": "stdout",
     "output_type": "stream",
     "text": [
      "     x1    x2     y\n",
      "0  Obs1  Obs2  Obs3\n",
      "1  Obs2  Obs3  Obs4\n",
      "2  Obs3  Obs4  Obs5\n",
      "3  Obs4  Obs5  Obs6\n",
      "4  Obs5  Obs6  Obs7\n",
      "5  Obs6  Obs7  Obs8\n"
     ]
    }
   ],
   "source": [
    "df_tab = transformTable(df_ts,2)\n",
    "print(df_new)"
   ]
  },
  {
   "cell_type": "code",
   "execution_count": null,
   "id": "d2232797",
   "metadata": {},
   "outputs": [],
   "source": []
  }
 ],
 "metadata": {
  "kernelspec": {
   "display_name": "Python 3 (ipykernel)",
   "language": "python",
   "name": "python3"
  },
  "language_info": {
   "codemirror_mode": {
    "name": "ipython",
    "version": 3
   },
   "file_extension": ".py",
   "mimetype": "text/x-python",
   "name": "python",
   "nbconvert_exporter": "python",
   "pygments_lexer": "ipython3",
   "version": "3.10.11"
  }
 },
 "nbformat": 4,
 "nbformat_minor": 5
}
